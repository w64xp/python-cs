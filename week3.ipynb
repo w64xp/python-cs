{
 "cells": [
  {
   "cell_type": "code",
   "execution_count": null,
   "id": "6b9f54a0",
   "metadata": {},
   "outputs": [],
   "source": [
    "a = b\"test\"\n",
    "b = 1j\n",
    "c = [\"apple\", \"banana\", \"cherry\" ]\n",
    "d = (\"apple\", \"banana\", \"cherry\" )\n",
    "e = range(6)\n",
    "f = {\"a\":\"apple\", \"b\":\"banana\", \"c\":\"cherry\" }\n",
    "g = {\"apple\", \"banana\", \"cherry\" }\n",
    "h = True\n",
    "i = b\"Hello\"\n",
    "j = bytearray(5)\n",
    "k = memoryview(bytes(5))\n",
    "l = \"Hello World\"\n",
    "m = 20\n",
    "n = 20.5\n",
    "o = frozenset({\"apple\", \"banana\", \"cherry\"})\n",
    "p = None\n",
    "\n",
    "\n"
   ]
  }
 ],
 "metadata": {
  "kernelspec": {
   "display_name": "base",
   "language": "python",
   "name": "python3"
  },
  "language_info": {
   "codemirror_mode": {
    "name": "ipython",
    "version": 3
   },
   "file_extension": ".py",
   "mimetype": "text/x-python",
   "name": "python",
   "nbconvert_exporter": "python",
   "pygments_lexer": "ipython3",
   "version": "3.13.5"
  }
 },
 "nbformat": 4,
 "nbformat_minor": 5
}
