{
 "cells": [
  {
   "cell_type": "code",
   "execution_count": 4,
   "id": "57538406",
   "metadata": {},
   "outputs": [
    {
     "name": "stdout",
     "output_type": "stream",
     "text": [
      "คะแนนที่กรอกคือ: 100.0\n",
      "6 w w Grade A\n",
      "คะแนนที่กรอกคือ: 100.0\n",
      "w w w Grade A\n"
     ]
    }
   ],
   "source": [
    "\n",
    "# Function to calculate grade based on point\n",
    "\n",
    "def cal_grade(point):\n",
    "    if point >= 80:\n",
    "        return \"Grade A\"\n",
    "    elif point >= 75:\n",
    "        return \"Grade B+\"\n",
    "    elif point >= 70:\n",
    "        return \"Grade B\"\n",
    "    elif point >= 65:\n",
    "        return \"Grade C+\"\n",
    "    elif point >= 60:\n",
    "        return \"Grade C\"\n",
    "    elif point >= 55:\n",
    "        return \"Grade D+\"\n",
    "    elif point >= 50:\n",
    "        return \"Grade D\"\n",
    "    else:\n",
    "        return \"Grade F\"\n",
    "\n",
    "#--main program--\n",
    "count = 0\n",
    "stop = 2\n",
    "while count < stop:\n",
    "    count += 1\n",
    "    str_point = input(\"input point :\") #รับค่าเป็น Str\n",
    "    if str_point.isdigit(): #ตรวจสอบว่าเป็นตัวเลขหรือไม่\n",
    "        point = float(str_point) #แปลง...int/float => ex.float\n",
    "        # ตรวจสอบว่าคะแนนอยู่ในช่วงที่ถูกต้องหรือไม่\n",
    "        if(point >= 0 and point <= 100):\n",
    "            id = input(\"input id :\")  # รับค่าเป็น Str\n",
    "            fname = input(\"input name :\")  # รับค่าเป็น Str\n",
    "            lname = input(\"input last name :\")  # รับค่าเป็น Str\n",
    "            print(\"คะแนนที่กรอกคือ:\", point)   # แสดงคะแนนที่กรอก\n",
    "            grade = cal_grade(point)  # เรียกใช้ฟังก์ชัน cal_grade\n",
    "            print(id,fname,lname,grade )  # แสดงผลลัพธ์\n",
    "        else:\n",
    "            print(\"กรุณากรอกคะแนนระหว่าง 0 ถึง 100 เท่านั้น\")\n",
    "    else:\n",
    "        print(\"กรุณากรอกตัวเลขเท่านั้น\")\n",
    "# End of script"
   ]
  }
 ],
 "metadata": {
  "kernelspec": {
   "display_name": "base",
   "language": "python",
   "name": "python3"
  },
  "language_info": {
   "codemirror_mode": {
    "name": "ipython",
    "version": 3
   },
   "file_extension": ".py",
   "mimetype": "text/x-python",
   "name": "python",
   "nbconvert_exporter": "python",
   "pygments_lexer": "ipython3",
   "version": "3.13.5"
  }
 },
 "nbformat": 4,
 "nbformat_minor": 5
}
