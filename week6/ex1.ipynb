{
 "cells": [
  {
   "cell_type": "code",
   "execution_count": 2,
   "id": "1f84422e",
   "metadata": {},
   "outputs": [
    {
     "name": "stdout",
     "output_type": "stream",
     "text": [
      "0\n",
      "1\n",
      "2\n",
      "3\n",
      "4\n",
      "5\n"
     ]
    }
   ],
   "source": [
    "for x in range(6):\n",
    "    print(x)"
   ]
  },
  {
   "cell_type": "code",
   "execution_count": 11,
   "id": "e58edc33",
   "metadata": {},
   "outputs": [
    {
     "name": "stdout",
     "output_type": "stream",
     "text": [
      "2\n",
      "5\n",
      "8\n",
      "11\n",
      "14\n",
      "17\n",
      "20\n",
      "23\n",
      "26\n",
      "29\n"
     ]
    }
   ],
   "source": [
    "for x in range(2, 30, 3):\n",
    "    print(x)"
   ]
  },
  {
   "cell_type": "code",
   "execution_count": 15,
   "id": "4b9649ac",
   "metadata": {},
   "outputs": [
    {
     "name": "stdout",
     "output_type": "stream",
     "text": [
      "0\n",
      "1\n",
      "2\n",
      "3\n",
      "4\n"
     ]
    }
   ],
   "source": [
    "for x in range(6):\n",
    "    if x == 5:\n",
    "        break\n",
    "    print(x)\n",
    "else:\n",
    "    print(\"Loop completed without break\")"
   ]
  },
  {
   "cell_type": "code",
   "execution_count": null,
   "id": "3833cfd0",
   "metadata": {},
   "outputs": [
    {
     "name": "stdout",
     "output_type": "stream",
     "text": [
      "apple  is color  red\n",
      "banana  is color  yellow\n",
      "cherry  is color  purple\n"
     ]
    }
   ],
   "source": [
    "adj = [\"red\", \"yellow\", \"purple\"]\n",
    "fruitss = [\"apple\", \"banana\", \"cherry\"]\n",
    "\n",
    "for i in fruitss:\n",
    "    print(i ,\" is color \", adj[fruits.index(i)])"
   ]
  },
  {
   "cell_type": "code",
   "execution_count": 65,
   "id": "744ea5e5",
   "metadata": {},
   "outputs": [],
   "source": [
    "fruits = []\n",
    "adj = []\n",
    "loop = True\n",
    "while loop:\n",
    "\n",
    "    inp1 = input(\"Enter a fruit name\")\n",
    "    inp2 = input(\"Enter a color name\")\n",
    "    fruits.append(inp1)\n",
    "    adj.append(inp2)\n",
    "    \n",
    "    inpcheck = input(\"Do you want to continue? (y/n)\")\n",
    "    if inpcheck != 'y':\n",
    "        loop = False\n"
   ]
  },
  {
   "cell_type": "code",
   "execution_count": 66,
   "id": "f378ed08",
   "metadata": {},
   "outputs": [
    {
     "name": "stdout",
     "output_type": "stream",
     "text": [
      "banana  is color  yellow\n",
      "orange  is color  orange\n"
     ]
    }
   ],
   "source": [
    "for i in fruits:\n",
    "    print(i ,\" is color \", adj[fruits.index(i)])"
   ]
  },
  {
   "cell_type": "code",
   "execution_count": null,
   "id": "a6b1afed",
   "metadata": {},
   "outputs": [
    {
     "name": "stdout",
     "output_type": "stream",
     "text": [
      "15\n",
      "10\n",
      "6.0\n"
     ]
    }
   ],
   "source": [
    "#Lamda \n",
    "x = lambda a: a + 10\n",
    "print(x(5))\n",
    "x = lambda a , b , c : a * b + c\n",
    "print(x(2, 3, 4))\n",
    "\n",
    "\n",
    "x = lambda x1, y1, x2, y2, x3, y3: 0.5 * abs((x1*(y2-y3) + x2*(y3-y1) + x3*(y1-y2)))\n",
    "\n",
    "print(x(1,1, 4,1, 1,5))"
   ]
  },
  {
   "cell_type": "code",
   "execution_count": 76,
   "id": "6e929f80",
   "metadata": {},
   "outputs": [
    {
     "name": "stdout",
     "output_type": "stream",
     "text": [
      "sort by number :  [('cherry', 9), ('apple', 5), ('banana', 2)]\n"
     ]
    }
   ],
   "source": [
    "data = [(\"apple\", 5), (\"banana\", 2), (\"cherry\", 9)]\n",
    "data.sort(key=lambda x: x[1], reverse=True)\n",
    "print(\"sort by number : \",data)"
   ]
  }
 ],
 "metadata": {
  "kernelspec": {
   "display_name": ".venv",
   "language": "python",
   "name": "python3"
  },
  "language_info": {
   "codemirror_mode": {
    "name": "ipython",
    "version": 3
   },
   "file_extension": ".py",
   "mimetype": "text/x-python",
   "name": "python",
   "nbconvert_exporter": "python",
   "pygments_lexer": "ipython3",
   "version": "3.13.5"
  }
 },
 "nbformat": 4,
 "nbformat_minor": 5
}
