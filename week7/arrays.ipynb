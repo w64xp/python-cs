{
 "cells": [
  {
   "cell_type": "code",
   "execution_count": 30,
   "id": "2aee8eaf",
   "metadata": {},
   "outputs": [
    {
     "name": "stdout",
     "output_type": "stream",
     "text": [
      "['ford', 'Toyota', 'bmw', 'Honda']\n",
      "['ford', 'bmw', 'Toyota', 'Honda']\n"
     ]
    }
   ],
   "source": [
    "cars = [\"ford\",\"Toyota\",\"bmw\"]\n",
    "# cars_copy = cars.copy()\n",
    "# print(\"backup :\",cars_copy)\n",
    "\n",
    "# print(cars)\n",
    "# cars[1] = \"toyota\"\n",
    "\n",
    "# print(cars)\n",
    "\n",
    "# x=len(cars)\n",
    "# print(x)\n",
    "\n",
    "cars.append(\"Honda\")\n",
    "print(cars)\n",
    "# cars.clear()\n",
    "# print(cars)\n",
    "\n",
    "cars.sort(reverse=True)\n",
    "print(cars)\n"
   ]
  },
  {
   "cell_type": "code",
   "execution_count": 18,
   "id": "fb8f5435",
   "metadata": {},
   "outputs": [
    {
     "name": "stdout",
     "output_type": "stream",
     "text": [
      "['ford', 'toyota', 'Mitsubishi', 'bmw', 'Honda']\n",
      "['ford', 'toyota', 'Mitsubishi', 'Honda']\n",
      "['toyota', 'Mitsubishi', 'Honda']\n"
     ]
    }
   ],
   "source": [
    "cars.insert(2 , \"Mitsubishi\")\n",
    "print(cars)\n",
    "\n",
    "cars.pop(3)\n",
    "print(cars)\n",
    "\n",
    "cars.remove(\"ford\")\n",
    "print(cars)\n",
    "\n"
   ]
  }
 ],
 "metadata": {
  "kernelspec": {
   "display_name": ".venv",
   "language": "python",
   "name": "python3"
  },
  "language_info": {
   "codemirror_mode": {
    "name": "ipython",
    "version": 3
   },
   "file_extension": ".py",
   "mimetype": "text/x-python",
   "name": "python",
   "nbconvert_exporter": "python",
   "pygments_lexer": "ipython3",
   "version": "3.13.5"
  }
 },
 "nbformat": 4,
 "nbformat_minor": 5
}
