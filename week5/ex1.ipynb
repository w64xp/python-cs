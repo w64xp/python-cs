{
 "cells": [
  {
   "cell_type": "code",
   "execution_count": null,
   "id": "3aeb6959",
   "metadata": {},
   "outputs": [
    {
     "name": "stdout",
     "output_type": "stream",
     "text": [
      "คะแนนที่กรอกคือ: 55.0\n",
      "55 55 55 Grade D+\n",
      "คะแนนที่กรอกคือ: 55.0\n",
      "55 55 55 Grade D+\n"
     ]
    }
   ],
   "source": [
    "\n",
    "# Function to calculate grade based on point\n",
    "\n",
    "def cal_grade(point):\n",
    "    if point >= 80:\n",
    "        return \"Grade A\"\n",
    "    elif point >= 75:\n",
    "        return \"Grade B+\"\n",
    "    elif point >= 70:\n",
    "        return \"Grade B\"\n",
    "    elif point >= 65:\n",
    "        return \"Grade C+\"\n",
    "    elif point >= 60:\n",
    "        return \"Grade C\"\n",
    "    elif point >= 55:\n",
    "        return \"Grade D+\"\n",
    "    elif point >= 50:\n",
    "        return \"Grade D\"\n",
    "    else:\n",
    "        return \"Grade F\"\n",
    "\n",
    "#--main program--\n",
    "students = []\n",
    "\n",
    "num = input(\"กรุณาระบุจำนวนนักศึกษา: \")\n",
    "while not num.isdigit() or int(num) <= 0:\n",
    "    num = input(\"กรุณาระบุจำนวนนักศึกษา (ตัวเลขมากกว่า 0): \")\n",
    "num = int(num)\n",
    "\n",
    "for i in range(num):\n",
    "    print(f\"\\nนักศึกษาคนที่ {i+1}\")\n",
    "    while True:\n",
    "        str_point = input(\"input point :\")\n",
    "        if str_point.isdigit():\n",
    "            point = float(str_point)\n",
    "            if 0 <= point <= 100:\n",
    "                break\n",
    "            else:\n",
    "                print(\"กรุณากรอกคะแนนระหว่าง 0 ถึง 100 เท่านั้น\")\n",
    "        else:\n",
    "            print(\"กรุณากรอกตัวเลขเท่านั้น\")\n",
    "    id = input(\"input id :\")\n",
    "    fname = input(\"input name :\")\n",
    "    lname = input(\"input last name :\")\n",
    "    grade = cal_grade(point)\n",
    "    students.append((id, fname, lname, point, grade))\n",
    "\n",
    "print(\"\\nสรุปผลการให้เกรด\")\n",
    "for s in students:\n",
    "    print(f\"ID: {s[0]}, Name: {s[1]} {s[2]}, Point: {s[3]}, Grade: {s[4]}\")"
   ]
  }
 ],
 "metadata": {
  "kernelspec": {
   "display_name": ".venv",
   "language": "python",
   "name": "python3"
  },
  "language_info": {
   "codemirror_mode": {
    "name": "ipython",
    "version": 3
   },
   "file_extension": ".py",
   "mimetype": "text/x-python",
   "name": "python",
   "nbconvert_exporter": "python",
   "pygments_lexer": "ipython3",
   "version": "3.13.5"
  }
 },
 "nbformat": 4,
 "nbformat_minor": 5
}
